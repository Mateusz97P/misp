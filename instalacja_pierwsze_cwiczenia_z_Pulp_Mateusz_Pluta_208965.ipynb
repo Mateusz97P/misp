{
  "nbformat": 4,
  "nbformat_minor": 0,
  "metadata": {
    "colab": {
      "name": "instalacja_pierwsze_cwiczenia_z_Pulp_Mateusz_Pluta_208965.ipynb",
      "provenance": [],
      "collapsed_sections": [],
      "include_colab_link": true
    },
    "kernelspec": {
      "name": "python3",
      "display_name": "Python 3"
    },
    "widgets": {
      "application/vnd.jupyter.widget-state+json": {
        "c0973fc866fd40deabe111e445568b6f": {
          "model_module": "@jupyter-widgets/controls",
          "model_name": "VBoxModel",
          "state": {
            "_view_name": "VBoxView",
            "_dom_classes": [
              "widget-interact"
            ],
            "_model_name": "VBoxModel",
            "_view_module": "@jupyter-widgets/controls",
            "_model_module_version": "1.5.0",
            "_view_count": null,
            "_view_module_version": "1.5.0",
            "box_style": "",
            "layout": "IPY_MODEL_02afd86b9a2d463ea76f7f63245c345d",
            "_model_module": "@jupyter-widgets/controls",
            "children": [
              "IPY_MODEL_0a6c42c1ad19483db329eb1a8462a3fc",
              "IPY_MODEL_c31ec9348a6e4470a7b9433fee5efaf2",
              "IPY_MODEL_0206802734c4421ebdcfce32add2014e",
              "IPY_MODEL_37846310092549c0a5864cf67b04f7df",
              "IPY_MODEL_511d84b3c64844b8af759256d66ac4b1",
              "IPY_MODEL_985cdc7ffe724563a56a0405e80219d1"
            ]
          }
        },
        "02afd86b9a2d463ea76f7f63245c345d": {
          "model_module": "@jupyter-widgets/base",
          "model_name": "LayoutModel",
          "state": {
            "_view_name": "LayoutView",
            "grid_template_rows": null,
            "right": null,
            "justify_content": null,
            "_view_module": "@jupyter-widgets/base",
            "overflow": null,
            "_model_module_version": "1.2.0",
            "_view_count": null,
            "flex_flow": null,
            "width": null,
            "min_width": null,
            "border": null,
            "align_items": null,
            "bottom": null,
            "_model_module": "@jupyter-widgets/base",
            "top": null,
            "grid_column": null,
            "overflow_y": null,
            "overflow_x": null,
            "grid_auto_flow": null,
            "grid_area": null,
            "grid_template_columns": null,
            "flex": null,
            "_model_name": "LayoutModel",
            "justify_items": null,
            "grid_row": null,
            "max_height": null,
            "align_content": null,
            "visibility": null,
            "align_self": null,
            "height": null,
            "min_height": null,
            "padding": null,
            "grid_auto_rows": null,
            "grid_gap": null,
            "max_width": null,
            "order": null,
            "_view_module_version": "1.2.0",
            "grid_template_areas": null,
            "object_position": null,
            "object_fit": null,
            "grid_auto_columns": null,
            "margin": null,
            "display": null,
            "left": null
          }
        },
        "0a6c42c1ad19483db329eb1a8462a3fc": {
          "model_module": "@jupyter-widgets/controls",
          "model_name": "IntSliderModel",
          "state": {
            "_view_name": "IntSliderView",
            "style": "IPY_MODEL_c1b5791dedca4b2f93b312ba1ea2c041",
            "_dom_classes": [],
            "description": "okna_aluminiowe_zysk",
            "step": 1,
            "_model_name": "IntSliderModel",
            "orientation": "horizontal",
            "max": 10000,
            "_view_module": "@jupyter-widgets/controls",
            "_model_module_version": "1.5.0",
            "value": 3000,
            "_view_count": null,
            "disabled": false,
            "_view_module_version": "1.5.0",
            "min": 0,
            "continuous_update": true,
            "readout_format": "d",
            "description_tooltip": null,
            "readout": true,
            "_model_module": "@jupyter-widgets/controls",
            "layout": "IPY_MODEL_34a1d5084099441e9df7110787d369be"
          }
        },
        "c31ec9348a6e4470a7b9433fee5efaf2": {
          "model_module": "@jupyter-widgets/controls",
          "model_name": "IntSliderModel",
          "state": {
            "_view_name": "IntSliderView",
            "style": "IPY_MODEL_2f84d030d46642608a367398a23852ea",
            "_dom_classes": [],
            "description": "okna_drewniane_zysk",
            "step": 1,
            "_model_name": "IntSliderModel",
            "orientation": "horizontal",
            "max": 10000,
            "_view_module": "@jupyter-widgets/controls",
            "_model_module_version": "1.5.0",
            "value": 5000,
            "_view_count": null,
            "disabled": false,
            "_view_module_version": "1.5.0",
            "min": 0,
            "continuous_update": true,
            "readout_format": "d",
            "description_tooltip": null,
            "readout": true,
            "_model_module": "@jupyter-widgets/controls",
            "layout": "IPY_MODEL_e216311d36ef4da88fb63bcad968d067"
          }
        },
        "0206802734c4421ebdcfce32add2014e": {
          "model_module": "@jupyter-widgets/controls",
          "model_name": "IntSliderModel",
          "state": {
            "_view_name": "IntSliderView",
            "style": "IPY_MODEL_965d525c6c604bd991800ff6a94aa753",
            "_dom_classes": [],
            "description": "fabryka1_czas_pracy",
            "step": 1,
            "_model_name": "IntSliderModel",
            "orientation": "horizontal",
            "max": 20,
            "_view_module": "@jupyter-widgets/controls",
            "_model_module_version": "1.5.0",
            "value": 4,
            "_view_count": null,
            "disabled": false,
            "_view_module_version": "1.5.0",
            "min": 0,
            "continuous_update": true,
            "readout_format": "d",
            "description_tooltip": null,
            "readout": true,
            "_model_module": "@jupyter-widgets/controls",
            "layout": "IPY_MODEL_58384bef558249aabc34f6fad849fe1b"
          }
        },
        "37846310092549c0a5864cf67b04f7df": {
          "model_module": "@jupyter-widgets/controls",
          "model_name": "IntSliderModel",
          "state": {
            "_view_name": "IntSliderView",
            "style": "IPY_MODEL_82e7e06863554e99badc331bd751f040",
            "_dom_classes": [],
            "description": "fabryka2_czas_pracy",
            "step": 1,
            "_model_name": "IntSliderModel",
            "orientation": "horizontal",
            "max": 20,
            "_view_module": "@jupyter-widgets/controls",
            "_model_module_version": "1.5.0",
            "value": 12,
            "_view_count": null,
            "disabled": false,
            "_view_module_version": "1.5.0",
            "min": 0,
            "continuous_update": true,
            "readout_format": "d",
            "description_tooltip": null,
            "readout": true,
            "_model_module": "@jupyter-widgets/controls",
            "layout": "IPY_MODEL_0b9ec9d376cb4405a1638d8b85cf7fc1"
          }
        },
        "511d84b3c64844b8af759256d66ac4b1": {
          "model_module": "@jupyter-widgets/controls",
          "model_name": "IntSliderModel",
          "state": {
            "_view_name": "IntSliderView",
            "style": "IPY_MODEL_43ecbd88a11c41e6bc26cf1f47f9ffa1",
            "_dom_classes": [],
            "description": "fabryka3_czas_pracy",
            "step": 1,
            "_model_name": "IntSliderModel",
            "orientation": "horizontal",
            "max": 20,
            "_view_module": "@jupyter-widgets/controls",
            "_model_module_version": "1.5.0",
            "value": 18,
            "_view_count": null,
            "disabled": false,
            "_view_module_version": "1.5.0",
            "min": 0,
            "continuous_update": true,
            "readout_format": "d",
            "description_tooltip": null,
            "readout": true,
            "_model_module": "@jupyter-widgets/controls",
            "layout": "IPY_MODEL_a37e435e902b49da8267d0e6e6ffee51"
          }
        },
        "985cdc7ffe724563a56a0405e80219d1": {
          "model_module": "@jupyter-widgets/output",
          "model_name": "OutputModel",
          "state": {
            "_view_name": "OutputView",
            "msg_id": "",
            "_dom_classes": [],
            "_model_name": "OutputModel",
            "outputs": [
              {
                "output_type": "stream",
                "metadata": {
                  "tags": []
                },
                "text": "Jakość: Optimal\nWytworzono:\nOkna_aluminum : 2\nOkna_drewno : 6\nZysk: 36000.0 zł\nShadow Prices\n                  name  shadow price  slack\n0  Fabryka1_czas_pracy          -0.0    2.0\n1  Fabryka2_czas_pracy          -0.0   -0.0\n2  Fabryka3_czas_pracy          -0.0   -0.0\n",
                "stream": "stdout"
              },
              {
                "output_type": "stream",
                "metadata": {
                  "tags": []
                },
                "text": "/usr/local/lib/python3.6/dist-packages/pulp/pulp.py:1198: UserWarning: Spaces are not permitted in the name. Converted to '_'\n  warnings.warn(\"Spaces are not permitted in the name. Converted to '_'\")\n",
                "stream": "stderr"
              }
            ],
            "_view_module": "@jupyter-widgets/output",
            "_model_module_version": "1.0.0",
            "_view_count": null,
            "_view_module_version": "1.0.0",
            "layout": "IPY_MODEL_636f854cd5b9402e92a8292be26136ea",
            "_model_module": "@jupyter-widgets/output"
          }
        },
        "c1b5791dedca4b2f93b312ba1ea2c041": {
          "model_module": "@jupyter-widgets/controls",
          "model_name": "SliderStyleModel",
          "state": {
            "_view_name": "StyleView",
            "handle_color": null,
            "_model_name": "SliderStyleModel",
            "description_width": "initial",
            "_view_module": "@jupyter-widgets/base",
            "_model_module_version": "1.5.0",
            "_view_count": null,
            "_view_module_version": "1.2.0",
            "_model_module": "@jupyter-widgets/controls"
          }
        },
        "34a1d5084099441e9df7110787d369be": {
          "model_module": "@jupyter-widgets/base",
          "model_name": "LayoutModel",
          "state": {
            "_view_name": "LayoutView",
            "grid_template_rows": null,
            "right": null,
            "justify_content": null,
            "_view_module": "@jupyter-widgets/base",
            "overflow": null,
            "_model_module_version": "1.2.0",
            "_view_count": null,
            "flex_flow": null,
            "width": null,
            "min_width": null,
            "border": null,
            "align_items": null,
            "bottom": null,
            "_model_module": "@jupyter-widgets/base",
            "top": null,
            "grid_column": null,
            "overflow_y": null,
            "overflow_x": null,
            "grid_auto_flow": null,
            "grid_area": null,
            "grid_template_columns": null,
            "flex": null,
            "_model_name": "LayoutModel",
            "justify_items": null,
            "grid_row": null,
            "max_height": null,
            "align_content": null,
            "visibility": null,
            "align_self": null,
            "height": null,
            "min_height": null,
            "padding": null,
            "grid_auto_rows": null,
            "grid_gap": null,
            "max_width": null,
            "order": null,
            "_view_module_version": "1.2.0",
            "grid_template_areas": null,
            "object_position": null,
            "object_fit": null,
            "grid_auto_columns": null,
            "margin": null,
            "display": null,
            "left": null
          }
        },
        "2f84d030d46642608a367398a23852ea": {
          "model_module": "@jupyter-widgets/controls",
          "model_name": "SliderStyleModel",
          "state": {
            "_view_name": "StyleView",
            "handle_color": null,
            "_model_name": "SliderStyleModel",
            "description_width": "initial",
            "_view_module": "@jupyter-widgets/base",
            "_model_module_version": "1.5.0",
            "_view_count": null,
            "_view_module_version": "1.2.0",
            "_model_module": "@jupyter-widgets/controls"
          }
        },
        "e216311d36ef4da88fb63bcad968d067": {
          "model_module": "@jupyter-widgets/base",
          "model_name": "LayoutModel",
          "state": {
            "_view_name": "LayoutView",
            "grid_template_rows": null,
            "right": null,
            "justify_content": null,
            "_view_module": "@jupyter-widgets/base",
            "overflow": null,
            "_model_module_version": "1.2.0",
            "_view_count": null,
            "flex_flow": null,
            "width": null,
            "min_width": null,
            "border": null,
            "align_items": null,
            "bottom": null,
            "_model_module": "@jupyter-widgets/base",
            "top": null,
            "grid_column": null,
            "overflow_y": null,
            "overflow_x": null,
            "grid_auto_flow": null,
            "grid_area": null,
            "grid_template_columns": null,
            "flex": null,
            "_model_name": "LayoutModel",
            "justify_items": null,
            "grid_row": null,
            "max_height": null,
            "align_content": null,
            "visibility": null,
            "align_self": null,
            "height": null,
            "min_height": null,
            "padding": null,
            "grid_auto_rows": null,
            "grid_gap": null,
            "max_width": null,
            "order": null,
            "_view_module_version": "1.2.0",
            "grid_template_areas": null,
            "object_position": null,
            "object_fit": null,
            "grid_auto_columns": null,
            "margin": null,
            "display": null,
            "left": null
          }
        },
        "965d525c6c604bd991800ff6a94aa753": {
          "model_module": "@jupyter-widgets/controls",
          "model_name": "SliderStyleModel",
          "state": {
            "_view_name": "StyleView",
            "handle_color": null,
            "_model_name": "SliderStyleModel",
            "description_width": "initial",
            "_view_module": "@jupyter-widgets/base",
            "_model_module_version": "1.5.0",
            "_view_count": null,
            "_view_module_version": "1.2.0",
            "_model_module": "@jupyter-widgets/controls"
          }
        },
        "58384bef558249aabc34f6fad849fe1b": {
          "model_module": "@jupyter-widgets/base",
          "model_name": "LayoutModel",
          "state": {
            "_view_name": "LayoutView",
            "grid_template_rows": null,
            "right": null,
            "justify_content": null,
            "_view_module": "@jupyter-widgets/base",
            "overflow": null,
            "_model_module_version": "1.2.0",
            "_view_count": null,
            "flex_flow": null,
            "width": null,
            "min_width": null,
            "border": null,
            "align_items": null,
            "bottom": null,
            "_model_module": "@jupyter-widgets/base",
            "top": null,
            "grid_column": null,
            "overflow_y": null,
            "overflow_x": null,
            "grid_auto_flow": null,
            "grid_area": null,
            "grid_template_columns": null,
            "flex": null,
            "_model_name": "LayoutModel",
            "justify_items": null,
            "grid_row": null,
            "max_height": null,
            "align_content": null,
            "visibility": null,
            "align_self": null,
            "height": null,
            "min_height": null,
            "padding": null,
            "grid_auto_rows": null,
            "grid_gap": null,
            "max_width": null,
            "order": null,
            "_view_module_version": "1.2.0",
            "grid_template_areas": null,
            "object_position": null,
            "object_fit": null,
            "grid_auto_columns": null,
            "margin": null,
            "display": null,
            "left": null
          }
        },
        "82e7e06863554e99badc331bd751f040": {
          "model_module": "@jupyter-widgets/controls",
          "model_name": "SliderStyleModel",
          "state": {
            "_view_name": "StyleView",
            "handle_color": null,
            "_model_name": "SliderStyleModel",
            "description_width": "initial",
            "_view_module": "@jupyter-widgets/base",
            "_model_module_version": "1.5.0",
            "_view_count": null,
            "_view_module_version": "1.2.0",
            "_model_module": "@jupyter-widgets/controls"
          }
        },
        "0b9ec9d376cb4405a1638d8b85cf7fc1": {
          "model_module": "@jupyter-widgets/base",
          "model_name": "LayoutModel",
          "state": {
            "_view_name": "LayoutView",
            "grid_template_rows": null,
            "right": null,
            "justify_content": null,
            "_view_module": "@jupyter-widgets/base",
            "overflow": null,
            "_model_module_version": "1.2.0",
            "_view_count": null,
            "flex_flow": null,
            "width": null,
            "min_width": null,
            "border": null,
            "align_items": null,
            "bottom": null,
            "_model_module": "@jupyter-widgets/base",
            "top": null,
            "grid_column": null,
            "overflow_y": null,
            "overflow_x": null,
            "grid_auto_flow": null,
            "grid_area": null,
            "grid_template_columns": null,
            "flex": null,
            "_model_name": "LayoutModel",
            "justify_items": null,
            "grid_row": null,
            "max_height": null,
            "align_content": null,
            "visibility": null,
            "align_self": null,
            "height": null,
            "min_height": null,
            "padding": null,
            "grid_auto_rows": null,
            "grid_gap": null,
            "max_width": null,
            "order": null,
            "_view_module_version": "1.2.0",
            "grid_template_areas": null,
            "object_position": null,
            "object_fit": null,
            "grid_auto_columns": null,
            "margin": null,
            "display": null,
            "left": null
          }
        },
        "43ecbd88a11c41e6bc26cf1f47f9ffa1": {
          "model_module": "@jupyter-widgets/controls",
          "model_name": "SliderStyleModel",
          "state": {
            "_view_name": "StyleView",
            "handle_color": null,
            "_model_name": "SliderStyleModel",
            "description_width": "initial",
            "_view_module": "@jupyter-widgets/base",
            "_model_module_version": "1.5.0",
            "_view_count": null,
            "_view_module_version": "1.2.0",
            "_model_module": "@jupyter-widgets/controls"
          }
        },
        "a37e435e902b49da8267d0e6e6ffee51": {
          "model_module": "@jupyter-widgets/base",
          "model_name": "LayoutModel",
          "state": {
            "_view_name": "LayoutView",
            "grid_template_rows": null,
            "right": null,
            "justify_content": null,
            "_view_module": "@jupyter-widgets/base",
            "overflow": null,
            "_model_module_version": "1.2.0",
            "_view_count": null,
            "flex_flow": null,
            "width": null,
            "min_width": null,
            "border": null,
            "align_items": null,
            "bottom": null,
            "_model_module": "@jupyter-widgets/base",
            "top": null,
            "grid_column": null,
            "overflow_y": null,
            "overflow_x": null,
            "grid_auto_flow": null,
            "grid_area": null,
            "grid_template_columns": null,
            "flex": null,
            "_model_name": "LayoutModel",
            "justify_items": null,
            "grid_row": null,
            "max_height": null,
            "align_content": null,
            "visibility": null,
            "align_self": null,
            "height": null,
            "min_height": null,
            "padding": null,
            "grid_auto_rows": null,
            "grid_gap": null,
            "max_width": null,
            "order": null,
            "_view_module_version": "1.2.0",
            "grid_template_areas": null,
            "object_position": null,
            "object_fit": null,
            "grid_auto_columns": null,
            "margin": null,
            "display": null,
            "left": null
          }
        },
        "636f854cd5b9402e92a8292be26136ea": {
          "model_module": "@jupyter-widgets/base",
          "model_name": "LayoutModel",
          "state": {
            "_view_name": "LayoutView",
            "grid_template_rows": null,
            "right": null,
            "justify_content": null,
            "_view_module": "@jupyter-widgets/base",
            "overflow": null,
            "_model_module_version": "1.2.0",
            "_view_count": null,
            "flex_flow": null,
            "width": null,
            "min_width": null,
            "border": null,
            "align_items": null,
            "bottom": null,
            "_model_module": "@jupyter-widgets/base",
            "top": null,
            "grid_column": null,
            "overflow_y": null,
            "overflow_x": null,
            "grid_auto_flow": null,
            "grid_area": null,
            "grid_template_columns": null,
            "flex": null,
            "_model_name": "LayoutModel",
            "justify_items": null,
            "grid_row": null,
            "max_height": null,
            "align_content": null,
            "visibility": null,
            "align_self": null,
            "height": null,
            "min_height": null,
            "padding": null,
            "grid_auto_rows": null,
            "grid_gap": null,
            "max_width": null,
            "order": null,
            "_view_module_version": "1.2.0",
            "grid_template_areas": null,
            "object_position": null,
            "object_fit": null,
            "grid_auto_columns": null,
            "margin": null,
            "display": null,
            "left": null
          }
        }
      }
    }
  },
  "cells": [
    {
      "cell_type": "markdown",
      "metadata": {
        "id": "view-in-github",
        "colab_type": "text"
      },
      "source": [
        "<a href=\"https://colab.research.google.com/github/Mateusz97P/misp/blob/master/instalacja_pierwsze_cwiczenia_z_Pulp_Mateusz_Pluta_208965.ipynb\" target=\"_parent\"><img src=\"https://colab.research.google.com/assets/colab-badge.svg\" alt=\"Open In Colab\"/></a>"
      ]
    },
    {
      "cell_type": "code",
      "metadata": {
        "id": "BjX-mj9e8D5a",
        "colab": {
          "base_uri": "https://localhost:8080/"
        },
        "outputId": "8c344be0-9e08-47c0-ab59-5e8c4a8a4625"
      },
      "source": [
        "!pip install pulp\n",
        "\n",
        "!sudo apt-get install coinor-cbc glpk-utils coinor-clp\n"
      ],
      "execution_count": null,
      "outputs": [
        {
          "output_type": "stream",
          "text": [
            "Collecting pulp\n",
            "\u001b[?25l  Downloading https://files.pythonhosted.org/packages/14/c4/0eec14a0123209c261de6ff154ef3be5cad3fd557c084f468356662e0585/PuLP-2.4-py3-none-any.whl (40.6MB)\n",
            "\u001b[K     |████████████████████████████████| 40.6MB 104kB/s \n",
            "\u001b[?25hCollecting amply>=0.1.2\n",
            "  Downloading https://files.pythonhosted.org/packages/f3/c5/dfa09dd2595a2ab2ab4e6fa7bebef9565812722e1980d04b0edce5032066/amply-0.1.4-py3-none-any.whl\n",
            "Requirement already satisfied: docutils>=0.3 in /usr/local/lib/python3.6/dist-packages (from amply>=0.1.2->pulp) (0.16)\n",
            "Requirement already satisfied: pyparsing in /usr/local/lib/python3.6/dist-packages (from amply>=0.1.2->pulp) (2.4.7)\n",
            "Installing collected packages: amply, pulp\n",
            "Successfully installed amply-0.1.4 pulp-2.4\n",
            "Reading package lists... Done\n",
            "Building dependency tree       \n",
            "Reading state information... Done\n",
            "The following additional packages will be installed:\n",
            "  coinor-libcbc3 coinor-libcgl1 coinor-libclp1 coinor-libcoinutils3v5\n",
            "  coinor-libosi1v5 libamd2 libcolamd2 libglpk40 libsuitesparseconfig5\n",
            "Suggested packages:\n",
            "  libiodbc2-dev default-libmysqlclient-dev\n",
            "The following NEW packages will be installed:\n",
            "  coinor-cbc coinor-clp coinor-libcbc3 coinor-libcgl1 coinor-libclp1\n",
            "  coinor-libcoinutils3v5 coinor-libosi1v5 glpk-utils libamd2 libcolamd2\n",
            "  libglpk40 libsuitesparseconfig5\n",
            "0 upgraded, 12 newly installed, 0 to remove and 14 not upgraded.\n",
            "Need to get 3,439 kB of archives.\n",
            "After this operation, 9,832 kB of additional disk space will be used.\n",
            "Get:1 http://archive.ubuntu.com/ubuntu bionic/main amd64 libsuitesparseconfig5 amd64 1:5.1.2-2 [9,044 B]\n",
            "Get:2 http://archive.ubuntu.com/ubuntu bionic/main amd64 libamd2 amd64 1:5.1.2-2 [19.5 kB]\n",
            "Get:3 http://archive.ubuntu.com/ubuntu bionic/main amd64 libcolamd2 amd64 1:5.1.2-2 [16.2 kB]\n",
            "Get:4 http://archive.ubuntu.com/ubuntu bionic/universe amd64 libglpk40 amd64 4.65-1 [378 kB]\n",
            "Get:5 http://archive.ubuntu.com/ubuntu bionic/universe amd64 glpk-utils amd64 4.65-1 [269 kB]\n",
            "Get:6 http://archive.ubuntu.com/ubuntu bionic/universe amd64 coinor-libcoinutils3v5 amd64 2.10.14+repack1-1 [472 kB]\n",
            "Get:7 http://archive.ubuntu.com/ubuntu bionic/universe amd64 coinor-libosi1v5 amd64 0.107.9+repack1-1 [270 kB]\n",
            "Get:8 http://archive.ubuntu.com/ubuntu bionic/universe amd64 coinor-libclp1 amd64 1.16.11+repack1-1 [863 kB]\n",
            "Get:9 http://archive.ubuntu.com/ubuntu bionic/universe amd64 coinor-libcgl1 amd64 0.59.10+repack1-1 [433 kB]\n",
            "Get:10 http://archive.ubuntu.com/ubuntu bionic/universe amd64 coinor-libcbc3 amd64 2.9.9+repack1-1 [687 kB]\n",
            "Get:11 http://archive.ubuntu.com/ubuntu bionic/universe amd64 coinor-cbc amd64 2.9.9+repack1-1 [11.2 kB]\n",
            "Get:12 http://archive.ubuntu.com/ubuntu bionic/universe amd64 coinor-clp amd64 1.16.11+repack1-1 [9,646 B]\n",
            "Fetched 3,439 kB in 4s (861 kB/s)\n",
            "debconf: unable to initialize frontend: Dialog\n",
            "debconf: (No usable dialog-like program is installed, so the dialog based frontend cannot be used. at /usr/share/perl5/Debconf/FrontEnd/Dialog.pm line 76, <> line 12.)\n",
            "debconf: falling back to frontend: Readline\n",
            "debconf: unable to initialize frontend: Readline\n",
            "debconf: (This frontend requires a controlling tty.)\n",
            "debconf: falling back to frontend: Teletype\n",
            "dpkg-preconfigure: unable to re-open stdin: \n",
            "Selecting previously unselected package libsuitesparseconfig5:amd64.\n",
            "(Reading database ... 144865 files and directories currently installed.)\n",
            "Preparing to unpack .../00-libsuitesparseconfig5_1%3a5.1.2-2_amd64.deb ...\n",
            "Unpacking libsuitesparseconfig5:amd64 (1:5.1.2-2) ...\n",
            "Selecting previously unselected package libamd2:amd64.\n",
            "Preparing to unpack .../01-libamd2_1%3a5.1.2-2_amd64.deb ...\n",
            "Unpacking libamd2:amd64 (1:5.1.2-2) ...\n",
            "Selecting previously unselected package libcolamd2:amd64.\n",
            "Preparing to unpack .../02-libcolamd2_1%3a5.1.2-2_amd64.deb ...\n",
            "Unpacking libcolamd2:amd64 (1:5.1.2-2) ...\n",
            "Selecting previously unselected package libglpk40:amd64.\n",
            "Preparing to unpack .../03-libglpk40_4.65-1_amd64.deb ...\n",
            "Unpacking libglpk40:amd64 (4.65-1) ...\n",
            "Selecting previously unselected package glpk-utils.\n",
            "Preparing to unpack .../04-glpk-utils_4.65-1_amd64.deb ...\n",
            "Unpacking glpk-utils (4.65-1) ...\n",
            "Selecting previously unselected package coinor-libcoinutils3v5.\n",
            "Preparing to unpack .../05-coinor-libcoinutils3v5_2.10.14+repack1-1_amd64.deb ...\n",
            "Unpacking coinor-libcoinutils3v5 (2.10.14+repack1-1) ...\n",
            "Selecting previously unselected package coinor-libosi1v5.\n",
            "Preparing to unpack .../06-coinor-libosi1v5_0.107.9+repack1-1_amd64.deb ...\n",
            "Unpacking coinor-libosi1v5 (0.107.9+repack1-1) ...\n",
            "Selecting previously unselected package coinor-libclp1.\n",
            "Preparing to unpack .../07-coinor-libclp1_1.16.11+repack1-1_amd64.deb ...\n",
            "Unpacking coinor-libclp1 (1.16.11+repack1-1) ...\n",
            "Selecting previously unselected package coinor-libcgl1.\n",
            "Preparing to unpack .../08-coinor-libcgl1_0.59.10+repack1-1_amd64.deb ...\n",
            "Unpacking coinor-libcgl1 (0.59.10+repack1-1) ...\n",
            "Selecting previously unselected package coinor-libcbc3.\n",
            "Preparing to unpack .../09-coinor-libcbc3_2.9.9+repack1-1_amd64.deb ...\n",
            "Unpacking coinor-libcbc3 (2.9.9+repack1-1) ...\n",
            "Selecting previously unselected package coinor-cbc.\n",
            "Preparing to unpack .../10-coinor-cbc_2.9.9+repack1-1_amd64.deb ...\n",
            "Unpacking coinor-cbc (2.9.9+repack1-1) ...\n",
            "Selecting previously unselected package coinor-clp.\n",
            "Preparing to unpack .../11-coinor-clp_1.16.11+repack1-1_amd64.deb ...\n",
            "Unpacking coinor-clp (1.16.11+repack1-1) ...\n",
            "Setting up libsuitesparseconfig5:amd64 (1:5.1.2-2) ...\n",
            "Setting up libcolamd2:amd64 (1:5.1.2-2) ...\n",
            "Setting up coinor-libcoinutils3v5 (2.10.14+repack1-1) ...\n",
            "Setting up coinor-libosi1v5 (0.107.9+repack1-1) ...\n",
            "Setting up coinor-libclp1 (1.16.11+repack1-1) ...\n",
            "Setting up libamd2:amd64 (1:5.1.2-2) ...\n",
            "Setting up coinor-libcgl1 (0.59.10+repack1-1) ...\n",
            "Setting up libglpk40:amd64 (4.65-1) ...\n",
            "Setting up coinor-clp (1.16.11+repack1-1) ...\n",
            "Setting up coinor-libcbc3 (2.9.9+repack1-1) ...\n",
            "Setting up glpk-utils (4.65-1) ...\n",
            "Setting up coinor-cbc (2.9.9+repack1-1) ...\n",
            "Processing triggers for man-db (2.8.3-2ubuntu0.1) ...\n",
            "Processing triggers for libc-bin (2.27-3ubuntu1.2) ...\n",
            "/sbin/ldconfig.real: /usr/local/lib/python3.6/dist-packages/ideep4py/lib/libmkldnn.so.0 is not a symbolic link\n",
            "\n"
          ],
          "name": "stdout"
        }
      ]
    },
    {
      "cell_type": "code",
      "metadata": {
        "id": "HMGiufp89W-9",
        "colab": {
          "base_uri": "https://localhost:8080/"
        },
        "outputId": "f5242440-4ebf-4613-f991-634e05f3d4f5"
      },
      "source": [
        "### kod sprawdza czy instalacja się udała\n",
        "import pulp\n",
        "\n",
        "print(pulp.__version__)"
      ],
      "execution_count": null,
      "outputs": [
        {
          "output_type": "stream",
          "text": [
            "2.4\n"
          ],
          "name": "stdout"
        }
      ]
    },
    {
      "cell_type": "code",
      "metadata": {
        "id": "05p9Frax-V2f",
        "colab": {
          "base_uri": "https://localhost:8080/"
        },
        "outputId": "acf78081-2396-45f9-9831-f60e25885a46"
      },
      "source": [
        "pulp.pulpTestAll()"
      ],
      "execution_count": null,
      "outputs": [
        {
          "output_type": "stream",
          "text": [
            "................."
          ],
          "name": "stderr"
        },
        {
          "output_type": "stream",
          "text": [
            "Solver <class 'pulp.apis.coin_api.PULP_CBC_CMD'> available\n",
            "Solver <class 'pulp.apis.cplex_api.CPLEX_DLL'> unavailable\n",
            "Solver <class 'pulp.apis.cplex_api.CPLEX_CMD'> unavailable\n",
            "Solver <class 'pulp.apis.cplex_api.CPLEX_PY'> unavailable\n",
            "Solver <class 'pulp.apis.coin_api.COIN_CMD'> available\n",
            "Solver <class 'pulp.apis.coin_api.COINMP_DLL'> unavailable\n",
            "Solver <class 'pulp.apis.glpk_api.GLPK_CMD'> available\n",
            "Solver <class 'pulp.apis.xpress_api.XPRESS'> unavailable\n",
            "Solver <class 'pulp.apis.gurobi_api.GUROBI'> unavailable\n",
            "Solver <class 'pulp.apis.gurobi_api.GUROBI_CMD'> unavailable\n",
            "Solver <class 'pulp.apis.glpk_api.PYGLPK'> unavailable\n",
            "Solver <class 'pulp.apis.coin_api.YAPOSIB'> unavailable\n",
            "Solver <class 'pulp.apis.choco_api.PULP_CHOCO_CMD'> available\n",
            "Solver <class 'pulp.apis.choco_api.CHOCO_CMD'> unavailable\n",
            "Solver <class 'pulp.apis.mipcl_api.MIPCL_CMD'> unavailable\n",
            "Solver <class 'pulp.apis.mosek_api.MOSEK'> unavailable\n",
            "Solver <class 'pulp.apis.scip_api.SCIP_CMD'> unavailable\n",
            "\t Testing invalid status\n",
            "\t Testing continuous LP solution - export dict\n",
            "\t Testing export dict for LP\n",
            "\t Testing MIP solution\n",
            "\t Testing maximize continuous LP solution\n",
            "\t Testing continuous LP solution - export JSON\n",
            "\t Testing continuous LP solution - export solver dict\n",
            "\t Testing continuous LP solution - export solver JSON\n",
            "\t Testing reading MPS files - binary variable, no constraint names\n",
            "\t Testing reading MPS files - integer variable\n",
            "\t Testing reading MPS files - maximize\n",
            "\t Testing logPath argument\n",
            "\t Testing makeDict general behavior\n",
            "\t Testing makeDict default value behavior\n",
            "\t Testing the availability of the function pulpTestAll\n",
            "\t Testing zero subtraction\n",
            "\t Testing inconsistent lp solution\n",
            "\t Testing continuous LP solution\n"
          ],
          "name": "stdout"
        },
        {
          "output_type": "stream",
          "text": [
            ".............."
          ],
          "name": "stderr"
        },
        {
          "output_type": "stream",
          "text": [
            "\t Testing maximize continuous LP solution\n",
            "\t Testing unbounded continuous LP solution\n",
            "\t Testing Long Names\n",
            "\t Testing repeated Names\n",
            "\t Testing zero constraint\n",
            "\t Testing zero objective\n",
            "\t Testing LpVariable (not LpAffineExpression) objective\n",
            "\t Testing Long lines in LP\n",
            "\t Testing LpAffineExpression divide\n",
            "\t Testing MIP solution\n",
            "\t Testing MIP solution with floats in objective\n",
            "\t Testing MIP solution\n",
            "\t Testing MIP solution\n",
            "\t Testing MIP relaxation\n"
          ],
          "name": "stdout"
        },
        {
          "output_type": "stream",
          "text": [
            "..............."
          ],
          "name": "stderr"
        },
        {
          "output_type": "stream",
          "text": [
            "\t Testing feasibility problem (no objective)\n",
            "\t Testing an infeasible problem\n",
            "\t Testing an integer infeasible problem\n",
            "\t Testing another integer infeasible problem\n",
            "\t Testing column based modelling\n",
            "\t Testing dual variables and slacks reporting\n",
            "\t Testing fractional constraints\n",
            "\t Testing elastic constraints (no change)\n",
            "\t Testing elastic constraints (freebound)\n",
            "\t Testing elastic constraints (penalty unchanged)\n",
            "\t Testing elastic constraints (penalty unbounded)\n",
            "\t Testing timeLimit argument\n"
          ],
          "name": "stdout"
        },
        {
          "output_type": "stream",
          "text": [
            "............"
          ],
          "name": "stderr"
        },
        {
          "output_type": "stream",
          "text": [
            "\t Testing invalid status\n",
            "\t Testing continuous LP solution - export dict\n",
            "\t Testing export dict for LP\n",
            "\t Testing MIP solution\n",
            "\t Testing maximize continuous LP solution\n",
            "\t Testing continuous LP solution - export JSON\n",
            "\t Testing continuous LP solution - export solver dict\n",
            "\t Testing continuous LP solution - export solver JSON\n",
            "\t Testing reading MPS files - binary variable, no constraint names\n",
            "\t Testing reading MPS files - integer variable\n",
            "\t Testing reading MPS files - maximize\n"
          ],
          "name": "stdout"
        },
        {
          "output_type": "stream",
          "text": [
            ".............."
          ],
          "name": "stderr"
        },
        {
          "output_type": "stream",
          "text": [
            "\t Testing logPath argument\n",
            "\t Testing makeDict general behavior\n",
            "\t Testing makeDict default value behavior\n",
            "\t Testing the availability of the function pulpTestAll\n",
            "\t Testing zero subtraction\n",
            "\t Testing inconsistent lp solution\n",
            "\t Testing continuous LP solution\n",
            "\t Testing maximize continuous LP solution\n",
            "\t Testing unbounded continuous LP solution\n",
            "\t Testing Long Names\n",
            "\t Testing repeated Names\n",
            "\t Testing zero constraint\n",
            "\t Testing zero objective\n",
            "\t Testing LpVariable (not LpAffineExpression) objective\n",
            "\t Testing Long lines in LP\n"
          ],
          "name": "stdout"
        },
        {
          "output_type": "stream",
          "text": [
            "..........."
          ],
          "name": "stderr"
        },
        {
          "output_type": "stream",
          "text": [
            "\t Testing LpAffineExpression divide\n",
            "\t Testing MIP solution\n",
            "\t Testing MIP solution with floats in objective\n",
            "\t Testing MIP solution\n",
            "\t Testing MIP solution\n",
            "\t Testing MIP relaxation\n",
            "\t Testing feasibility problem (no objective)\n",
            "\t Testing an infeasible problem\n",
            "\t Testing an integer infeasible problem\n",
            "\t Testing another integer infeasible problem\n",
            "\t Testing column based modelling\n"
          ],
          "name": "stdout"
        },
        {
          "output_type": "stream",
          "text": [
            "................"
          ],
          "name": "stderr"
        },
        {
          "output_type": "stream",
          "text": [
            "\t Testing fractional constraints\n",
            "\t Testing elastic constraints (no change)\n",
            "\t Testing elastic constraints (freebound)\n",
            "\t Testing elastic constraints (penalty unchanged)\n",
            "\t Testing elastic constraints (penalty unbounded)\n",
            "\t Testing timeLimit argument\n",
            "\t Testing invalid status\n",
            "\t Testing continuous LP solution - export dict\n",
            "\t Testing export dict for LP\n",
            "\t Testing MIP solution\n",
            "\t Testing maximize continuous LP solution\n",
            "\t Testing continuous LP solution - export JSON\n"
          ],
          "name": "stdout"
        },
        {
          "output_type": "stream",
          "text": [
            "......................."
          ],
          "name": "stderr"
        },
        {
          "output_type": "stream",
          "text": [
            "\t Testing continuous LP solution - export solver dict\n",
            "\t Testing continuous LP solution - export solver JSON\n",
            "\t Testing reading MPS files - binary variable, no constraint names\n",
            "\t Testing reading MPS files - integer variable\n",
            "\t Testing reading MPS files - maximize\n",
            "\t Testing makeDict general behavior\n",
            "\t Testing makeDict default value behavior\n",
            "\t Testing the availability of the function pulpTestAll\n",
            "\t Testing zero subtraction\n",
            "\t Testing inconsistent lp solution\n",
            "\t Testing continuous LP solution\n",
            "\t Testing maximize continuous LP solution\n",
            "\t Testing unbounded continuous LP solution\n",
            "\t Testing Long Names\n",
            "\t Testing repeated Names\n",
            "\t Testing zero constraint\n",
            "\t Testing zero objective\n",
            "\t Testing LpVariable (not LpAffineExpression) objective\n",
            "\t Testing LpAffineExpression divide\n",
            "\t Testing MIP solution\n",
            "\t Testing MIP solution with floats in objective\n"
          ],
          "name": "stdout"
        },
        {
          "output_type": "stream",
          "text": [
            ".................."
          ],
          "name": "stderr"
        },
        {
          "output_type": "stream",
          "text": [
            "\t Testing MIP solution\n",
            "\t Testing MIP solution\n",
            "\t Testing MIP relaxation\n",
            "\t Testing feasibility problem (no objective)\n",
            "\t Testing an infeasible problem\n",
            "\t Testing an integer infeasible problem\n",
            "\t Testing another integer infeasible problem\n",
            "\t Testing column based modelling\n",
            "\t Testing fractional constraints\n",
            "\t Testing elastic constraints (no change)\n",
            "\t Testing elastic constraints (freebound)\n",
            "\t Testing elastic constraints (penalty unchanged)\n",
            "\t Testing elastic constraints (penalty unbounded)\n",
            "\t Testing timeLimit argument\n"
          ],
          "name": "stdout"
        },
        {
          "output_type": "stream",
          "text": [
            ".."
          ],
          "name": "stderr"
        },
        {
          "output_type": "stream",
          "text": [
            "\t Testing invalid status\n",
            "\t Testing continuous LP solution - export dict\n"
          ],
          "name": "stdout"
        },
        {
          "output_type": "stream",
          "text": [
            "."
          ],
          "name": "stderr"
        },
        {
          "output_type": "stream",
          "text": [
            "\t Testing export dict for LP\n"
          ],
          "name": "stdout"
        },
        {
          "output_type": "stream",
          "text": [
            "."
          ],
          "name": "stderr"
        },
        {
          "output_type": "stream",
          "text": [
            "\t Testing MIP solution\n"
          ],
          "name": "stdout"
        },
        {
          "output_type": "stream",
          "text": [
            "."
          ],
          "name": "stderr"
        },
        {
          "output_type": "stream",
          "text": [
            "\t Testing maximize continuous LP solution\n"
          ],
          "name": "stdout"
        },
        {
          "output_type": "stream",
          "text": [
            "."
          ],
          "name": "stderr"
        },
        {
          "output_type": "stream",
          "text": [
            "\t Testing continuous LP solution - export JSON\n"
          ],
          "name": "stdout"
        },
        {
          "output_type": "stream",
          "text": [
            "."
          ],
          "name": "stderr"
        },
        {
          "output_type": "stream",
          "text": [
            "\t Testing continuous LP solution - export solver dict\n"
          ],
          "name": "stdout"
        },
        {
          "output_type": "stream",
          "text": [
            "."
          ],
          "name": "stderr"
        },
        {
          "output_type": "stream",
          "text": [
            "\t Testing continuous LP solution - export solver JSON\n"
          ],
          "name": "stdout"
        },
        {
          "output_type": "stream",
          "text": [
            ".........."
          ],
          "name": "stderr"
        },
        {
          "output_type": "stream",
          "text": [
            "\t Testing reading MPS files - binary variable, no constraint names\n",
            "\t Testing reading MPS files - integer variable\n",
            "\t Testing reading MPS files - maximize\n",
            "\t Testing makeDict general behavior\n",
            "\t Testing makeDict default value behavior\n",
            "\t Testing the availability of the function pulpTestAll\n",
            "\t Testing zero subtraction\n",
            "\t Testing inconsistent lp solution\n",
            "\t Testing continuous LP solution\n"
          ],
          "name": "stdout"
        },
        {
          "output_type": "stream",
          "text": [
            "."
          ],
          "name": "stderr"
        },
        {
          "output_type": "stream",
          "text": [
            "\t Testing maximize continuous LP solution\n"
          ],
          "name": "stdout"
        },
        {
          "output_type": "stream",
          "text": [
            ".."
          ],
          "name": "stderr"
        },
        {
          "output_type": "stream",
          "text": [
            "\t Testing unbounded continuous LP solution\n",
            "\t Testing Long Names\n"
          ],
          "name": "stdout"
        },
        {
          "output_type": "stream",
          "text": [
            ".."
          ],
          "name": "stderr"
        },
        {
          "output_type": "stream",
          "text": [
            "\t Testing repeated Names\n",
            "\t Testing zero constraint\n"
          ],
          "name": "stdout"
        },
        {
          "output_type": "stream",
          "text": [
            "."
          ],
          "name": "stderr"
        },
        {
          "output_type": "stream",
          "text": [
            "\t Testing zero objective\n"
          ],
          "name": "stdout"
        },
        {
          "output_type": "stream",
          "text": [
            "."
          ],
          "name": "stderr"
        },
        {
          "output_type": "stream",
          "text": [
            "\t Testing LpVariable (not LpAffineExpression) objective\n"
          ],
          "name": "stdout"
        },
        {
          "output_type": "stream",
          "text": [
            ".."
          ],
          "name": "stderr"
        },
        {
          "output_type": "stream",
          "text": [
            "\t Testing LpAffineExpression divide\n"
          ],
          "name": "stdout"
        },
        {
          "output_type": "stream",
          "text": [
            "."
          ],
          "name": "stderr"
        },
        {
          "output_type": "stream",
          "text": [
            "\t Testing MIP solution\n"
          ],
          "name": "stdout"
        },
        {
          "output_type": "stream",
          "text": [
            "."
          ],
          "name": "stderr"
        },
        {
          "output_type": "stream",
          "text": [
            "\t Testing MIP solution with floats in objective\n"
          ],
          "name": "stdout"
        },
        {
          "output_type": "stream",
          "text": [
            "."
          ],
          "name": "stderr"
        },
        {
          "output_type": "stream",
          "text": [
            "\t Testing MIP solution\n"
          ],
          "name": "stdout"
        },
        {
          "output_type": "stream",
          "text": [
            "."
          ],
          "name": "stderr"
        },
        {
          "output_type": "stream",
          "text": [
            "\t Testing MIP solution\n"
          ],
          "name": "stdout"
        },
        {
          "output_type": "stream",
          "text": [
            "./usr/local/lib/python3.6/dist-packages/pulp/apis/choco_api.py:83: UserWarning: CHOCO_CMD cannot solve the relaxation of a problem\n",
            "  warnings.warn(\"CHOCO_CMD cannot solve the relaxation of a problem\")\n"
          ],
          "name": "stderr"
        },
        {
          "output_type": "stream",
          "text": [
            "\t Testing MIP relaxation\n"
          ],
          "name": "stdout"
        },
        {
          "output_type": "stream",
          "text": [
            "."
          ],
          "name": "stderr"
        },
        {
          "output_type": "stream",
          "text": [
            "\t Testing feasibility problem (no objective)\n"
          ],
          "name": "stdout"
        },
        {
          "output_type": "stream",
          "text": [
            "."
          ],
          "name": "stderr"
        },
        {
          "output_type": "stream",
          "text": [
            "\t Testing an infeasible problem\n"
          ],
          "name": "stdout"
        },
        {
          "output_type": "stream",
          "text": [
            "."
          ],
          "name": "stderr"
        },
        {
          "output_type": "stream",
          "text": [
            "\t Testing an integer infeasible problem\n"
          ],
          "name": "stdout"
        },
        {
          "output_type": "stream",
          "text": [
            "."
          ],
          "name": "stderr"
        },
        {
          "output_type": "stream",
          "text": [
            "\t Testing another integer infeasible problem\n"
          ],
          "name": "stdout"
        },
        {
          "output_type": "stream",
          "text": [
            "."
          ],
          "name": "stderr"
        },
        {
          "output_type": "stream",
          "text": [
            "\t Testing column based modelling\n"
          ],
          "name": "stdout"
        },
        {
          "output_type": "stream",
          "text": [
            "....."
          ],
          "name": "stderr"
        },
        {
          "output_type": "stream",
          "text": [
            "\t Testing fractional constraints\n"
          ],
          "name": "stdout"
        },
        {
          "output_type": "stream",
          "text": [
            "."
          ],
          "name": "stderr"
        },
        {
          "output_type": "stream",
          "text": [
            "\t Testing elastic constraints (no change)\n"
          ],
          "name": "stdout"
        },
        {
          "output_type": "stream",
          "text": [
            "."
          ],
          "name": "stderr"
        },
        {
          "output_type": "stream",
          "text": [
            "\t Testing elastic constraints (freebound)\n"
          ],
          "name": "stdout"
        },
        {
          "output_type": "stream",
          "text": [
            "."
          ],
          "name": "stderr"
        },
        {
          "output_type": "stream",
          "text": [
            "\t Testing elastic constraints (penalty unchanged)\n"
          ],
          "name": "stdout"
        },
        {
          "output_type": "stream",
          "text": [
            ".............."
          ],
          "name": "stderr"
        },
        {
          "output_type": "stream",
          "text": [
            "\t Testing elastic constraints (penalty unbounded)\n",
            "\t Testing timeLimit argument\n"
          ],
          "name": "stdout"
        },
        {
          "output_type": "stream",
          "text": [
            "................................\n",
            "----------------------------------------------------------------------\n",
            "Ran 231 tests in 39.475s\n",
            "\n",
            "OK\n"
          ],
          "name": "stderr"
        }
      ]
    },
    {
      "cell_type": "markdown",
      "metadata": {
        "id": "JHP3Y3Yh-stH"
      },
      "source": [
        "# Zadania:\n",
        "\n",
        "1. przeczytaj materiały dotyczące pulp ze strony internetowej https://coin-or.github.io/pulp/main/index.html oraz przejdź przez blending problem (przepisz do swojego notebooka)\n",
        "\n",
        "2. w blending problem dodaj zmienną decyzyjną. Stwórz zmienną która pojawi się w końcowym składzie produktu (tj. wartość zmiennej będzie miała niezerową postać)\n",
        "\n",
        "3. Dodaj ograniczenie co do zawartości witaminy B \n",
        "\n",
        "Zawartość:\n",
        "\n",
        "| Nazwa      | zawartość ug/100g |\n",
        "|------------|-------------------|\n",
        "| chicken    | 0.3               |\n",
        "| beef       | 2.6               |\n",
        "| mutton     | 2.6               |\n",
        "| rice       | 0                 |\n",
        "| wheat bran | 0                 |\n",
        "| gel        | 0                 |\n",
        "| sardines   | 8.9               |\n",
        "\n",
        "Kot ma zjeść minimum 0.24 ug na kilogram masy więc około\n",
        "0.8 ug dziennie\n",
        "\n",
        "4. Na końcu ma pojawiać się zdanie podsumowujące wynik, w stylu:\n",
        "Końcowy produkt będzie kosztować {}, będzie miał w składzie {nazwa}: {} %, {nastepna nazwa}: {} %\n",
        "\n",
        "Takie zdanie można skleić z części generowanych automatycznie:\n",
        "\n"
      ]
    },
    {
      "cell_type": "code",
      "metadata": {
        "id": "BhWf9b8IMJZ7",
        "colab": {
          "base_uri": "https://localhost:8080/"
        },
        "outputId": "e190329f-cecc-4795-eb9f-d47a1a18a951"
      },
      "source": [
        "sklejone_produkt_cena = [\":\".join((produkt, str(cena))) for produkt,cena in zip([\"jabłko\",\"banan\"],[5,10])]\n",
        "print(sklejone_produkt_cena)\n",
        "sklejona_calosc = \", \".join(sklejone_produkt_cena)\n",
        "\n",
        "print(sklejona_calosc)"
      ],
      "execution_count": null,
      "outputs": [
        {
          "output_type": "stream",
          "text": [
            "['jabłko:5', 'banan:10']\n",
            "jabłko:5, banan:10\n"
          ],
          "name": "stdout"
        }
      ]
    },
    {
      "cell_type": "code",
      "metadata": {
        "id": "Se_t7o8bTLdW",
        "colab": {
          "base_uri": "https://localhost:8080/"
        },
        "outputId": "da05b0a9-d1a1-4e88-d1b6-7f8b9a4afeb0"
      },
      "source": [
        "from pulp import *\n",
        "\n",
        "prob = LpProblem(\"Jedzenie dla kota\",LpMinimize)\n",
        "\n",
        "x1=LpVariable(\"Kurczaczek\",0,)\n",
        "x2=LpVariable(\"Wołowinka\",0)\n",
        "x3=LpVariable(\"Jagnięcinka\",0)\n",
        "x4=LpVariable(\"Sardyneczki\",0)\n",
        "\n",
        "prob += 0.32*x1 + 0.22*x2 + 0.24*x3 + 0.1*x4, \"Cena składników jednej puszki jedzenia\"\n",
        "\n",
        "prob += x1 + x2 + x3 + x4 == 100, \"Suma skkładników wyrażona w %\"\n",
        "prob += 0.33*x1 + 0.25*x2 + 0.3*x3 + 0.02*x4 >= 8.0, \"Zapotrzebowanie na białko\"\n",
        "prob += 0.53*x1 + 0.2*x2 + 0.2*x3 + 0.1*x4 >= 6.0, \"Zapotrzebowanie na tłuszcz\"\n",
        "prob += 0.01*x1 + 0.01*x2 + 0.1*x3 + 0.001*x4 <= 2.0, \"Zapotrzebowanie na błonnik\"\n",
        "prob += 0.1*x1 + 0.04*x2 + 0.01*x3 + 0.001*x4 <= 0.4, \"Zapotrzebowanie na sól\"\n",
        "prob += 0.1*x1 + 0.06*x2 + 0.06*x3 + 0.002*x4 >= 0.8, \"Zapotrzebowanie na witaminę B\" \n",
        "\n",
        "prob.writeLP(\"Jedzenie.lp\")\n",
        "\n",
        "prob.solve()\n",
        "print(\"Jakość jedzenia:\", LpStatus[prob.status])\n",
        "\n",
        "for v in prob.variables():\n",
        "    print(v.name, \"=\", v.varValue)\n",
        "\n",
        "prod_proc = \"\"\n",
        "\n",
        "for v in prob.variables():\n",
        "    prod_proc += v.name + \" = \" + str(v.varValue)+ \"%, \" \n",
        "\n",
        "prod_proc = prod_proc[:-2]\n",
        "\n",
        "print(\"Cena jednej puszki jedzenia: \", value(prob.objective), \"PLN i jej skład:\", prod_proc,\".\")\n",
        "\n",
        "print(\"_\"*100)"
      ],
      "execution_count": null,
      "outputs": [
        {
          "output_type": "stream",
          "text": [
            "Jakość jedzenia: Optimal\n",
            "Jagnięcinka = 18.91358\n",
            "Kurczaczek = 0.0\n",
            "Sardyneczki = 78.024691\n",
            "Wołowinka = 3.0617284\n",
            "Cena jednej puszki jedzenia:  13.015308548 PLN i jej skład: Jagnięcinka = 18.91358%, Kurczaczek = 0.0%, Sardyneczki = 78.024691%, Wołowinka = 3.0617284% .\n",
            "____________________________________________________________________________________________________\n"
          ],
          "name": "stdout"
        },
        {
          "output_type": "stream",
          "text": [
            "/usr/local/lib/python3.6/dist-packages/pulp/pulp.py:1199: UserWarning: Spaces are not permitted in the name. Converted to '_'\n",
            "  warnings.warn(\"Spaces are not permitted in the name. Converted to '_'\")\n"
          ],
          "name": "stderr"
        }
      ]
    },
    {
      "cell_type": "code",
      "metadata": {
        "id": "mkqQ2EFfXF-l",
        "colab": {
          "base_uri": "https://localhost:8080/",
          "height": 413,
          "referenced_widgets": [
            "c0973fc866fd40deabe111e445568b6f",
            "02afd86b9a2d463ea76f7f63245c345d",
            "0a6c42c1ad19483db329eb1a8462a3fc",
            "c31ec9348a6e4470a7b9433fee5efaf2",
            "0206802734c4421ebdcfce32add2014e",
            "37846310092549c0a5864cf67b04f7df",
            "511d84b3c64844b8af759256d66ac4b1",
            "985cdc7ffe724563a56a0405e80219d1",
            "c1b5791dedca4b2f93b312ba1ea2c041",
            "34a1d5084099441e9df7110787d369be",
            "2f84d030d46642608a367398a23852ea",
            "e216311d36ef4da88fb63bcad968d067",
            "965d525c6c604bd991800ff6a94aa753",
            "58384bef558249aabc34f6fad849fe1b",
            "82e7e06863554e99badc331bd751f040",
            "0b9ec9d376cb4405a1638d8b85cf7fc1",
            "43ecbd88a11c41e6bc26cf1f47f9ffa1",
            "a37e435e902b49da8267d0e6e6ffee51",
            "636f854cd5b9402e92a8292be26136ea"
          ]
        },
        "outputId": "9c7a1af6-1561-43bb-8144-ba516969ebc8"
      },
      "source": [
        "from pulp import *\n",
        "from __future__ import print_function\n",
        "from ipywidgets import interact, interactive, fixed, interact_manual, Layout, FloatSlider, IntSlider\n",
        "import ipywidgets as widgets\n",
        "import pandas as pd\n",
        "\n",
        "style = {'description_width': 'initial'}\n",
        "\n",
        "okna_aluminium_zysk_suw = IntSlider (min=0,max = 10000, value= 3000, description=\"okna_aluminiowe_zysk\", style = style)\n",
        "okna_drewno_zysk_suw  = IntSlider (min=0,max = 10000, value= 5000, description=\"okna_drewniane_zysk\",  style = style)\n",
        "fabrykaF1_praca_suw = IntSlider (min=0,max = 20, value= 4, description=\"fabryka1_czas_pracy\", style = style)\n",
        "fabrykaF2_praca_suw = IntSlider (min=0,max = 20, value= 12, description=\"fabryka2_czas_pracy\", style = style)\n",
        "fabrykaF3_praca_suw = IntSlider (min=0,max = 20, value= 18, description=\"fabryka3_czas_pracy\", style = style)\n",
        "\n",
        "def produkcja_okien( \n",
        "    zysk_aluminium = 3000,\n",
        "    zysk_drewno = 5000,\n",
        "    fabryka1_czas_pracy = 4,\n",
        "    fabryka2_czas_pracy = 12,\n",
        "    fabryka3_czas_pracy = 18):\n",
        "\n",
        "    prob = LpProblem(\"Windows Problem\",LpMaximize)\n",
        "\n",
        "    x1 = LpVariable(\"Okna aluminum\",0,None,LpInteger)       \n",
        "    x2 = LpVariable(\"Okna drewno\",0,None,LpInteger)\n",
        "\n",
        "    prob += zysk_aluminium*x1 + zysk_drewno*x2, \"Zysk\"\n",
        "\n",
        "    prob += 1*x1 <= fabryka1_czas_pracy, \"Fabryka1 czas pracy\"\n",
        "    prob += 2*x2 <= fabryka2_czas_pracy, \"Fabryka2 czas pracy\"\n",
        "    prob += 3*x1 + 2*x2 <= fabryka3_czas_pracy, \"Fabryka3 czas pracy\"\n",
        "\n",
        "    prob.solve()\n",
        "    print(\"Jakość:\", LpStatus[prob.status])\n",
        "\n",
        "    print(\"Wytworzono:\")\n",
        "    for v in prob.variables():\n",
        "      print(v.name, \":\", int(v.varValue))\n",
        "    print(\"Zysk:\",value(prob.objective),\"zł\")\n",
        "\n",
        "    shadows = [{'name':name, 'shadow price': c.pi, \"slack\": c.slack} for name, c in prob.constraints.items()]\n",
        "    print(\"\"*10+\"Shadow Prices\"+\"\"*10)\n",
        "    print(pd.DataFrame(shadows))\n",
        "\n",
        "interact(produkcja_okien,\n",
        "    zysk_aluminium= okna_aluminium_zysk_suw,\n",
        "    zysk_drewno = okna_drewno_zysk_suw,\n",
        "    fabryka1_czas_pracy = fabrykaF1_praca_suw,\n",
        "    fabryka2_czas_pracy = fabrykaF2_praca_suw,\n",
        "    fabryka3_czas_pracy = fabrykaF3_praca_suw)"
      ],
      "execution_count": null,
      "outputs": [
        {
          "output_type": "display_data",
          "data": {
            "application/vnd.jupyter.widget-view+json": {
              "model_id": "c0973fc866fd40deabe111e445568b6f",
              "version_minor": 0,
              "version_major": 2
            },
            "text/plain": [
              "interactive(children=(IntSlider(value=3000, description='okna_aluminiowe_zysk', max=10000, style=SliderStyle(d…"
            ]
          },
          "metadata": {
            "tags": []
          }
        },
        {
          "output_type": "execute_result",
          "data": {
            "text/plain": [
              "<function __main__.produkcja_okien>"
            ]
          },
          "metadata": {
            "tags": []
          },
          "execution_count": 4
        }
      ]
    },
    {
      "cell_type": "code",
      "metadata": {
        "id": "iYFJS4g-Fo80",
        "colab": {
          "base_uri": "https://localhost:8080/"
        },
        "outputId": "693e27c1-b836-4d83-92cd-9949399c5c68"
      },
      "source": [
        "import numpy as np\n",
        "from pulp import *\n",
        "\n",
        "prob = LpProblem(\"Min moc rozproszona\",LpMinimize)\n",
        "i1=LpVariable(\"I1\", 0.003, 0.005, LpContinuous)\n",
        "i2=LpVariable(\"I2\", 0.001, 0.003, LpContinuous)\n",
        "i3=LpVariable(\"I3\", 0.001, 0.003, LpContinuous)\n",
        "i4=LpVariable(\"I4\", 0.001, 0.003, LpContinuous)\n",
        "i5=LpVariable(\"I5\", 0.003, 0.005, LpContinuous)\n",
        " \n",
        "U = (6.0, 10.0, 4.0, 7.0, 3.0)\n",
        "prob += U[0]*i1 + U[1]*i2 + U[2]*i3 + U[3]*i4 + U[4]*i5, \"Całkowita moc na mostku\"\n",
        "prob += i1-i3 == i4, \"ki1\" \n",
        "prob += i2+i3 == i5, \"ki2\"\n",
        "\n",
        "prob.writeLP(\"mostekrez.lp\")\n",
        "prob.solve()\n",
        "print(\"Jakość:\", LpStatus[prob.status])\n",
        "\n",
        "for v in prob.variables():\n",
        "    print(v.name, \"=\", v.varValue)\n",
        "\n",
        "print(\"straty:\", value(prob.objective), \"W\\n\")  \n",
        "print(\"_\"*40)\n",
        "for v, k in zip(U, prob.variables()):\n",
        "  print(\"R\",U.index(v)+1,\"=\",(v/k.varValue),\"Ohm\")"
      ],
      "execution_count": null,
      "outputs": [
        {
          "output_type": "stream",
          "text": [
            "Jakość: Optimal\n",
            "I1 = 0.003\n",
            "I2 = 0.001\n",
            "I3 = 0.002\n",
            "I4 = 0.001\n",
            "I5 = 0.003\n",
            "straty: 0.052000000000000005 W\n",
            "\n",
            "________________________________________\n",
            "R 1 = 2000.0 Ohm\n",
            "R 2 = 10000.0 Ohm\n",
            "R 3 = 2000.0 Ohm\n",
            "R 4 = 7000.0 Ohm\n",
            "R 5 = 1000.0 Ohm\n"
          ],
          "name": "stdout"
        },
        {
          "output_type": "stream",
          "text": [
            "/usr/local/lib/python3.6/dist-packages/pulp/pulp.py:1198: UserWarning: Spaces are not permitted in the name. Converted to '_'\n",
            "  warnings.warn(\"Spaces are not permitted in the name. Converted to '_'\")\n"
          ],
          "name": "stderr"
        }
      ]
    },
    {
      "cell_type": "code",
      "metadata": {
        "id": "409Pcu-BHHxw",
        "colab": {
          "base_uri": "https://localhost:8080/"
        },
        "outputId": "8fc8e660-139b-4f5e-ee9a-82a3a9726f4d"
      },
      "source": [
        "import numpy as np\n",
        "from pulp import *\n",
        "\n",
        "prob = LpProblem(\"Max prąd w dwójniku rezystorowym\",LpMaximize)\n",
        "i1=LpVariable(\"I1\", 0, 2, LpContinuous)\n",
        "i2=LpVariable(\"I2\", 0, 3, LpContinuous)\n",
        "i3=LpVariable(\"I3\", 0, 4, LpContinuous)\n",
        "i4=LpVariable(\"I4\", 0, 2, LpContinuous)\n",
        "i5=LpVariable(\"I5\", 0, 2, LpContinuous)\n",
        "\n",
        "R = (8.0, 6.0, 4.0, 10.0, 8.0)\n",
        "prob += i1+i2+i3+i4+i5, \"max prąd\"\n",
        "prob += i1+i2 == i3, \"1\" \n",
        "prob += i3-i4 == i5, \"2\"\n",
        "prob += i1*R[0]-i2*R[1] == 0, \"3\"\n",
        "prob += i4*R[3]-i5*R[4] == 0, \"4\"\n",
        "\n",
        "prob.writeLP(\"dwójnik.lp\")\n",
        "prob.solve()\n",
        "print(\"Jakość:\", LpStatus[prob.status])\n",
        "\n",
        "I_max = 0\n",
        "for v in prob.variables():\n",
        "    print(v.name, \"=\", v.varValue, \"A\")\n",
        "    if (v.varValue >= I_max):\n",
        "      I_max = v.varValue \n",
        "print(\"Suma prądu:\", value(prob.objective), \"A\") \n",
        "\n",
        "print(\"I_max =\", I_max, \"A\")"
      ],
      "execution_count": null,
      "outputs": [
        {
          "output_type": "stream",
          "text": [
            "Jakość: Optimal\n",
            "I1 = 1.5428571 A\n",
            "I2 = 2.0571429 A\n",
            "I3 = 3.6 A\n",
            "I4 = 1.6 A\n",
            "I5 = 2.0 A\n",
            "Suma prądu: 10.8 A\n",
            "I_max = 3.6 A\n"
          ],
          "name": "stdout"
        },
        {
          "output_type": "stream",
          "text": [
            "/usr/local/lib/python3.6/dist-packages/pulp/pulp.py:1198: UserWarning: Spaces are not permitted in the name. Converted to '_'\n",
            "  warnings.warn(\"Spaces are not permitted in the name. Converted to '_'\")\n"
          ],
          "name": "stderr"
        }
      ]
    },
    {
      "cell_type": "code",
      "metadata": {
        "colab": {
          "base_uri": "https://localhost:8080/"
        },
        "id": "EJXzX-YtIY7z",
        "outputId": "b89f9a9b-68a3-4d0f-950c-de68b1bfbf64"
      },
      "source": [
        "from pulp import *\n",
        "\n",
        "prob = LpProblem(\"Pracownicy_optymalizowani\",LpMinimize)\n",
        "\n",
        "AnPon = LpVariable(\"Ania_w_poniedzialek\", 0, 1, LpInteger)\n",
        "AnWt = LpVariable(\"Ania_we_wtorek\", 0, 1, LpInteger)\n",
        "AnSr = LpVariable(\"Ania_w_srode\", 0, 1, LpInteger)\n",
        "AnCzw = LpVariable(\"Ania_w_czwartek\", 0, 1, LpInteger)\n",
        "AnPt = LpVariable(\"Ania_w_piatek\", 0, 1, LpInteger)\n",
        "StPon = LpVariable(\"Stefan_w_poniedzialek\", 0, 1, LpInteger)\n",
        "StWt = LpVariable(\"Stefan_we_wtorek\", 0, 1, LpInteger)\n",
        "StSr = LpVariable(\"Stefan_w_srode\", 0, 1, LpInteger)\n",
        "StCzw = LpVariable(\"Stefan_w_czwartek\", 0, 1, LpInteger)\n",
        "StPt = LpVariable(\"Stefan_w_piatek\", 0, 1, LpInteger)\n",
        "HePon = LpVariable(\"Hektor_w_poniedzialek\", 0, 1, LpInteger)\n",
        "HeWt = LpVariable(\"Hektor_we_wtorek\", 0, 1, LpInteger)\n",
        "HeSr = LpVariable(\"Hektor_w_srode\", 0, 1, LpInteger)\n",
        "HeCzw = LpVariable(\"Hektor_w_czwartek\", 0, 1, LpInteger)\n",
        "HePt = LpVariable(\"Hektor_w_piatek\", 0, 1, LpInteger)\n",
        "OlPon = LpVariable(\"Olaf_w_poniedzialek\", 0, 1, LpInteger)\n",
        "OlWt = LpVariable(\"Olaf_we_wtorek\", 0, 1, LpInteger)\n",
        "OlSr = LpVariable(\"Olaf_w_srode\", 0, 1, LpInteger)\n",
        "OlCzw = LpVariable(\"Olaf_w_czwartek\", 0, 1, LpInteger)\n",
        "OlPt = LpVariable(\"Olaf_w_piatek\", 0, 1, LpInteger)\n",
        "LiPon = LpVariable(\"Lidia_w_poniedzialek\", 0, 1, LpInteger)\n",
        "LiWt = LpVariable(\"Lidia_we_wtorek\", 0, 1, LpInteger)\n",
        "LiSr = LpVariable(\"Lidia_w_srode\", 0, 1, LpInteger)\n",
        "LiCzw = LpVariable(\"Lidia_w_czwartek\", 0, 1, LpInteger)\n",
        "LiPt = LpVariable(\"Lidia_w_piatek\", 0, 1, LpInteger)\n",
        "PiPon = LpVariable(\"Piotr_w_poniedzialek\", 0, 1, LpInteger)\n",
        "PiWt = LpVariable(\"Piotr_we_wtorek\", 0, 1, LpInteger)\n",
        "PiSr = LpVariable(\"Piotr_w_srode\", 0, 1, LpInteger)\n",
        "PiCzw = LpVariable(\"Piotr_w_czwartek\", 0, 1, LpInteger)\n",
        "PiPt = LpVariable(\"Piotr_w_piatek\", 0, 1, LpInteger)\n",
        "\n",
        "An_koszt = 100\n",
        "St_koszt = 50\n",
        "He_koszt = 60\n",
        "Ol_koszt = 40\n",
        "Li_koszt = 110\n",
        "Pi_koszt = 70\n",
        "\n",
        "prob += (AnPon+AnWt+AnSr+AnCzw+AnPt)*An_koszt+(StPon+StWt+StSr+StCzw+StPt)*St_koszt+(HePon+HeWt+HeSr+HeCzw+HePt)*He_koszt+(OlPon+OlWt+OlSr+OlCzw+OlPt)*Ol_koszt+(LiPon+LiWt+LiSr+LiCzw+LiPt)*Li_koszt+(PiPon+PiWt+PiSr+PiCzw+PiPt)*Pi_koszt, \"minimalny_koszt\"\n",
        "\n",
        "prob += AnPon+AnWt+AnSr+AnCzw+AnPt <= 3, \"1\" \n",
        "prob += StPon+StWt+StSr+StCzw+StPt <= 3, \"2\" \n",
        "prob += HePon+HeWt+HeSr+HeCzw+HePt <= 3, \"3\" \n",
        "prob += OlPon+OlWt+OlSr+OlCzw+OlPt <= 3, \"4\"\n",
        "prob += LiPon+LiWt+LiSr+LiCzw+LiPt <= 3, \"5\"\n",
        "prob += PiPon+PiWt+PiSr+PiCzw+PiPt <= 3, \"6\"\n",
        "\n",
        "prob += StWt+StSr+StCzw+StPt == 0 , \"7\"\n",
        "prob += HeCzw+HePt == 0, \"8\"\n",
        "prob += LiPon+LiWt+LiSr == 0, \"9\"\n",
        "prob += PiCzw+PiPt == 0, \"10\"\n",
        "\n",
        "prob += AnPon+StPon+HePon+OlPon+LiPon+PiPon == 2, \"Osoby_w_poniedzialek\"\n",
        "prob += AnWt+StWt+HeWt+OlWt+LiWt+PiWt == 1, \"Osoby_we_wtorek\"\n",
        "prob += AnSr+StSr+HeSr+OlSr+LiSr+PiSr == 1, \"Osoby_w_srode\"\n",
        "prob += AnCzw+StCzw+HeCzw+OlCzw+LiCzw+PiCzw == 1, \"Osoby_w_czwartek\"\n",
        "prob += AnPt+StPt+HePt+OlPt+LiPt+PiPt == 3, \"Osoby_w_piatek\"\n",
        "\n",
        "prob.writeLP(\"tydz.lp\")\n",
        "\n",
        "prob.solve()\n",
        "print(\"Jakość:\", LpStatus[prob.status])\n",
        "\n",
        "print(\"Cały koszt:\", value(prob.objective), \"zł\")\n",
        "print(\"_\"*40)\n",
        "\n",
        "for v in prob.variables():\n",
        "    print(v.name, \"=\", v.varValue)"
      ],
      "execution_count": null,
      "outputs": [
        {
          "output_type": "stream",
          "text": [
            "Jakość: Optimal\n",
            "Cały koszt: 500.0 zł\n",
            "________________________________________\n",
            "Ania_w_czwartek = 0.0\n",
            "Ania_w_piatek = 1.0\n",
            "Ania_w_poniedzialek = 0.0\n",
            "Ania_w_srode = 0.0\n",
            "Ania_we_wtorek = 0.0\n",
            "Hektor_w_czwartek = 0.0\n",
            "Hektor_w_piatek = 0.0\n",
            "Hektor_w_poniedzialek = 1.0\n",
            "Hektor_w_srode = 1.0\n",
            "Hektor_we_wtorek = 0.0\n",
            "Lidia_w_czwartek = 0.0\n",
            "Lidia_w_piatek = 1.0\n",
            "Lidia_w_poniedzialek = 0.0\n",
            "Lidia_w_srode = 0.0\n",
            "Lidia_we_wtorek = 0.0\n",
            "Olaf_w_czwartek = 1.0\n",
            "Olaf_w_piatek = 1.0\n",
            "Olaf_w_poniedzialek = 0.0\n",
            "Olaf_w_srode = 0.0\n",
            "Olaf_we_wtorek = 1.0\n",
            "Piotr_w_czwartek = 0.0\n",
            "Piotr_w_piatek = 0.0\n",
            "Piotr_w_poniedzialek = 0.0\n",
            "Piotr_w_srode = 0.0\n",
            "Piotr_we_wtorek = 0.0\n",
            "Stefan_w_czwartek = 0.0\n",
            "Stefan_w_piatek = 0.0\n",
            "Stefan_w_poniedzialek = 1.0\n",
            "Stefan_w_srode = 0.0\n",
            "Stefan_we_wtorek = 0.0\n"
          ],
          "name": "stdout"
        }
      ]
    }
  ]
}